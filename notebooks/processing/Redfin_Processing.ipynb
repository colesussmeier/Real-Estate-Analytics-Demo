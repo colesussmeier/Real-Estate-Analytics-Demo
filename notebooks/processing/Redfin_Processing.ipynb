{
 "cells": [
  {
   "cell_type": "code",
   "execution_count": 1,
   "metadata": {},
   "outputs": [],
   "source": [
    "import numpy as np\n",
    "import pandas as pd"
   ]
  },
  {
   "cell_type": "code",
   "execution_count": 2,
   "metadata": {},
   "outputs": [],
   "source": [
    "df = pd.read_csv('../../data/formatted/Redfin/Redfin_April24_Formatted.csv', dtype=str)"
   ]
  },
  {
   "cell_type": "code",
   "execution_count": 3,
   "metadata": {},
   "outputs": [
    {
     "data": {
      "text/html": [
       "<div>\n",
       "<style scoped>\n",
       "    .dataframe tbody tr th:only-of-type {\n",
       "        vertical-align: middle;\n",
       "    }\n",
       "\n",
       "    .dataframe tbody tr th {\n",
       "        vertical-align: top;\n",
       "    }\n",
       "\n",
       "    .dataframe thead th {\n",
       "        text-align: right;\n",
       "    }\n",
       "</style>\n",
       "<table border=\"1\" class=\"dataframe\">\n",
       "  <thead>\n",
       "    <tr style=\"text-align: right;\">\n",
       "      <th></th>\n",
       "      <th>period_end</th>\n",
       "      <th>region</th>\n",
       "      <th>median_sale_price</th>\n",
       "      <th>median_list_price</th>\n",
       "      <th>homes_sold</th>\n",
       "      <th>pending_sales</th>\n",
       "      <th>new_listings</th>\n",
       "      <th>inventory</th>\n",
       "    </tr>\n",
       "  </thead>\n",
       "  <tbody>\n",
       "    <tr>\n",
       "      <th>0</th>\n",
       "      <td>2013-01-31</td>\n",
       "      <td>44815</td>\n",
       "      <td>77250.0</td>\n",
       "      <td>NaN</td>\n",
       "      <td>2.0</td>\n",
       "      <td>NaN</td>\n",
       "      <td>NaN</td>\n",
       "      <td>1.0</td>\n",
       "    </tr>\n",
       "    <tr>\n",
       "      <th>1</th>\n",
       "      <td>2021-09-30</td>\n",
       "      <td>75093</td>\n",
       "      <td>590000.0</td>\n",
       "      <td>599000.0</td>\n",
       "      <td>199.0</td>\n",
       "      <td>50.0</td>\n",
       "      <td>183.0</td>\n",
       "      <td>69.0</td>\n",
       "    </tr>\n",
       "    <tr>\n",
       "      <th>2</th>\n",
       "      <td>2022-09-30</td>\n",
       "      <td>44124</td>\n",
       "      <td>223500.0</td>\n",
       "      <td>214000.0</td>\n",
       "      <td>205.0</td>\n",
       "      <td>45.0</td>\n",
       "      <td>211.0</td>\n",
       "      <td>111.0</td>\n",
       "    </tr>\n",
       "    <tr>\n",
       "      <th>3</th>\n",
       "      <td>2017-11-30</td>\n",
       "      <td>52773</td>\n",
       "      <td>174000.0</td>\n",
       "      <td>285000.0</td>\n",
       "      <td>6.0</td>\n",
       "      <td>NaN</td>\n",
       "      <td>2.0</td>\n",
       "      <td>4.0</td>\n",
       "    </tr>\n",
       "    <tr>\n",
       "      <th>4</th>\n",
       "      <td>2012-04-30</td>\n",
       "      <td>61865</td>\n",
       "      <td>76000.0</td>\n",
       "      <td>NaN</td>\n",
       "      <td>3.0</td>\n",
       "      <td>NaN</td>\n",
       "      <td>NaN</td>\n",
       "      <td>NaN</td>\n",
       "    </tr>\n",
       "    <tr>\n",
       "      <th>...</th>\n",
       "      <td>...</td>\n",
       "      <td>...</td>\n",
       "      <td>...</td>\n",
       "      <td>...</td>\n",
       "      <td>...</td>\n",
       "      <td>...</td>\n",
       "      <td>...</td>\n",
       "      <td>...</td>\n",
       "    </tr>\n",
       "    <tr>\n",
       "      <th>2713757</th>\n",
       "      <td>2018-05-31</td>\n",
       "      <td>11231</td>\n",
       "      <td>2017500.0</td>\n",
       "      <td>1999999.0</td>\n",
       "      <td>42.0</td>\n",
       "      <td>2.0</td>\n",
       "      <td>109.0</td>\n",
       "      <td>153.0</td>\n",
       "    </tr>\n",
       "    <tr>\n",
       "      <th>2713758</th>\n",
       "      <td>2020-06-30</td>\n",
       "      <td>16872</td>\n",
       "      <td>155000.0</td>\n",
       "      <td>NaN</td>\n",
       "      <td>1.0</td>\n",
       "      <td>NaN</td>\n",
       "      <td>NaN</td>\n",
       "      <td>2.0</td>\n",
       "    </tr>\n",
       "    <tr>\n",
       "      <th>2713759</th>\n",
       "      <td>2019-11-30</td>\n",
       "      <td>48880</td>\n",
       "      <td>70000.0</td>\n",
       "      <td>82400.0</td>\n",
       "      <td>25.0</td>\n",
       "      <td>6.0</td>\n",
       "      <td>18.0</td>\n",
       "      <td>22.0</td>\n",
       "    </tr>\n",
       "    <tr>\n",
       "      <th>2713760</th>\n",
       "      <td>2022-04-30</td>\n",
       "      <td>22736</td>\n",
       "      <td>402280.0</td>\n",
       "      <td>509999.0</td>\n",
       "      <td>3.0</td>\n",
       "      <td>NaN</td>\n",
       "      <td>1.0</td>\n",
       "      <td>NaN</td>\n",
       "    </tr>\n",
       "    <tr>\n",
       "      <th>2713761</th>\n",
       "      <td>2013-06-30</td>\n",
       "      <td>15748</td>\n",
       "      <td>86000.0</td>\n",
       "      <td>99900.0</td>\n",
       "      <td>6.0</td>\n",
       "      <td>1.0</td>\n",
       "      <td>19.0</td>\n",
       "      <td>32.0</td>\n",
       "    </tr>\n",
       "  </tbody>\n",
       "</table>\n",
       "<p>2713762 rows × 8 columns</p>\n",
       "</div>"
      ],
      "text/plain": [
       "         period_end region median_sale_price median_list_price homes_sold  \\\n",
       "0        2013-01-31  44815           77250.0               NaN        2.0   \n",
       "1        2021-09-30  75093          590000.0          599000.0      199.0   \n",
       "2        2022-09-30  44124          223500.0          214000.0      205.0   \n",
       "3        2017-11-30  52773          174000.0          285000.0        6.0   \n",
       "4        2012-04-30  61865           76000.0               NaN        3.0   \n",
       "...             ...    ...               ...               ...        ...   \n",
       "2713757  2018-05-31  11231         2017500.0         1999999.0       42.0   \n",
       "2713758  2020-06-30  16872          155000.0               NaN        1.0   \n",
       "2713759  2019-11-30  48880           70000.0           82400.0       25.0   \n",
       "2713760  2022-04-30  22736          402280.0          509999.0        3.0   \n",
       "2713761  2013-06-30  15748           86000.0           99900.0        6.0   \n",
       "\n",
       "        pending_sales new_listings inventory  \n",
       "0                 NaN          NaN       1.0  \n",
       "1                50.0        183.0      69.0  \n",
       "2                45.0        211.0     111.0  \n",
       "3                 NaN          2.0       4.0  \n",
       "4                 NaN          NaN       NaN  \n",
       "...               ...          ...       ...  \n",
       "2713757           2.0        109.0     153.0  \n",
       "2713758           NaN          NaN       2.0  \n",
       "2713759           6.0         18.0      22.0  \n",
       "2713760           NaN          1.0       NaN  \n",
       "2713761           1.0         19.0      32.0  \n",
       "\n",
       "[2713762 rows x 8 columns]"
      ]
     },
     "execution_count": 3,
     "metadata": {},
     "output_type": "execute_result"
    }
   ],
   "source": [
    "df"
   ]
  },
  {
   "cell_type": "code",
   "execution_count": 4,
   "metadata": {},
   "outputs": [
    {
     "data": {
      "text/html": [
       "<div>\n",
       "<style scoped>\n",
       "    .dataframe tbody tr th:only-of-type {\n",
       "        vertical-align: middle;\n",
       "    }\n",
       "\n",
       "    .dataframe tbody tr th {\n",
       "        vertical-align: top;\n",
       "    }\n",
       "\n",
       "    .dataframe thead th {\n",
       "        text-align: right;\n",
       "    }\n",
       "</style>\n",
       "<table border=\"1\" class=\"dataframe\">\n",
       "  <thead>\n",
       "    <tr style=\"text-align: right;\">\n",
       "      <th></th>\n",
       "      <th>period_end</th>\n",
       "      <th>region</th>\n",
       "      <th>median_sale_price</th>\n",
       "      <th>median_list_price</th>\n",
       "      <th>homes_sold</th>\n",
       "      <th>pending_sales</th>\n",
       "      <th>new_listings</th>\n",
       "      <th>inventory</th>\n",
       "    </tr>\n",
       "  </thead>\n",
       "  <tbody>\n",
       "    <tr>\n",
       "      <th>count</th>\n",
       "      <td>2713762</td>\n",
       "      <td>2713762</td>\n",
       "      <td>2709242</td>\n",
       "      <td>2587363</td>\n",
       "      <td>2709280</td>\n",
       "      <td>2086379</td>\n",
       "      <td>2572848</td>\n",
       "      <td>2537033</td>\n",
       "    </tr>\n",
       "    <tr>\n",
       "      <th>unique</th>\n",
       "      <td>146</td>\n",
       "      <td>24065</td>\n",
       "      <td>144698</td>\n",
       "      <td>105340</td>\n",
       "      <td>797</td>\n",
       "      <td>273</td>\n",
       "      <td>922</td>\n",
       "      <td>1185</td>\n",
       "    </tr>\n",
       "    <tr>\n",
       "      <th>top</th>\n",
       "      <td>2021-09-30</td>\n",
       "      <td>13339</td>\n",
       "      <td>150000.0</td>\n",
       "      <td>149900.0</td>\n",
       "      <td>1.0</td>\n",
       "      <td>1.0</td>\n",
       "      <td>1.0</td>\n",
       "      <td>1.0</td>\n",
       "    </tr>\n",
       "    <tr>\n",
       "      <th>freq</th>\n",
       "      <td>20501</td>\n",
       "      <td>146</td>\n",
       "      <td>14051</td>\n",
       "      <td>17879</td>\n",
       "      <td>269817</td>\n",
       "      <td>319587</td>\n",
       "      <td>143278</td>\n",
       "      <td>113792</td>\n",
       "    </tr>\n",
       "  </tbody>\n",
       "</table>\n",
       "</div>"
      ],
      "text/plain": [
       "        period_end   region median_sale_price median_list_price homes_sold  \\\n",
       "count      2713762  2713762           2709242           2587363    2709280   \n",
       "unique         146    24065            144698            105340        797   \n",
       "top     2021-09-30    13339          150000.0          149900.0        1.0   \n",
       "freq         20501      146             14051             17879     269817   \n",
       "\n",
       "       pending_sales new_listings inventory  \n",
       "count        2086379      2572848   2537033  \n",
       "unique           273          922      1185  \n",
       "top              1.0          1.0       1.0  \n",
       "freq          319587       143278    113792  "
      ]
     },
     "execution_count": 4,
     "metadata": {},
     "output_type": "execute_result"
    }
   ],
   "source": [
    "df.describe().round()"
   ]
  },
  {
   "cell_type": "code",
   "execution_count": 5,
   "metadata": {},
   "outputs": [
    {
     "name": "stdout",
     "output_type": "stream",
     "text": [
      "<class 'pandas.core.frame.DataFrame'>\n",
      "RangeIndex: 2713762 entries, 0 to 2713761\n",
      "Data columns (total 8 columns):\n",
      " #   Column             Dtype \n",
      "---  ------             ----- \n",
      " 0   period_end         object\n",
      " 1   region             object\n",
      " 2   median_sale_price  object\n",
      " 3   median_list_price  object\n",
      " 4   homes_sold         object\n",
      " 5   pending_sales      object\n",
      " 6   new_listings       object\n",
      " 7   inventory          object\n",
      "dtypes: object(8)\n",
      "memory usage: 165.6+ MB\n"
     ]
    }
   ],
   "source": [
    "df.info()"
   ]
  },
  {
   "cell_type": "code",
   "execution_count": 6,
   "metadata": {},
   "outputs": [],
   "source": [
    "# convert vars to proper type\n",
    "df['period_end'] = pd.to_datetime(df['period_end'])\n",
    "df['region'] = df['region'].astype(str)\n",
    "df['median_sale_price'] = df['median_sale_price'].astype(float)\n",
    "df['median_list_price'] = df['median_list_price'].astype(float)\n",
    "df['homes_sold'] = df['homes_sold'].astype(float)\n",
    "df['pending_sales'] = df['pending_sales'].astype(float)\n",
    "df['new_listings'] = df['new_listings'].astype(float)\n",
    "df['inventory'] = df['inventory'].astype(float)"
   ]
  },
  {
   "cell_type": "code",
   "execution_count": 7,
   "metadata": {},
   "outputs": [],
   "source": [
    "# number of regions * number of months in the data is not equal to the total number of rows in the dataset\n",
    "# there are missing entries (not just null values)"
   ]
  },
  {
   "cell_type": "code",
   "execution_count": 8,
   "metadata": {},
   "outputs": [
    {
     "data": {
      "text/plain": [
       "24065"
      ]
     },
     "execution_count": 8,
     "metadata": {},
     "output_type": "execute_result"
    }
   ],
   "source": [
    "# number of regions:\n",
    "df['region'].nunique()"
   ]
  },
  {
   "cell_type": "code",
   "execution_count": 9,
   "metadata": {},
   "outputs": [
    {
     "data": {
      "text/plain": [
       "146"
      ]
     },
     "execution_count": 9,
     "metadata": {},
     "output_type": "execute_result"
    }
   ],
   "source": [
    "# number of months:\n",
    "df['period_end'].nunique()"
   ]
  },
  {
   "cell_type": "code",
   "execution_count": 10,
   "metadata": {},
   "outputs": [
    {
     "data": {
      "text/plain": [
       "3513490"
      ]
     },
     "execution_count": 10,
     "metadata": {},
     "output_type": "execute_result"
    }
   ],
   "source": [
    "# number of regions * number of months in the data\n",
    "df['region'].nunique() * df['period_end'].nunique()"
   ]
  },
  {
   "cell_type": "code",
   "execution_count": 11,
   "metadata": {},
   "outputs": [
    {
     "data": {
      "text/plain": [
       "2713762"
      ]
     },
     "execution_count": 11,
     "metadata": {},
     "output_type": "execute_result"
    }
   ],
   "source": [
    "# total number of rows in the dataset\n",
    "len(df)"
   ]
  },
  {
   "cell_type": "code",
   "execution_count": 12,
   "metadata": {},
   "outputs": [
    {
     "data": {
      "image/png": "[encoded data removed]",
      "text/plain": [
       "<Figure size 640x480 with 1 Axes>"
      ]
     },
     "metadata": {},
     "output_type": "display_data"
    }
   ],
   "source": [
    "# counts of dates missing (total # of zip codes - # of unique zips contained in the dataframe at time t)\n",
    "df.groupby('period_end')['period_end'].count().transform(lambda x : df['region'].nunique() - x).plot();"
   ]
  },
  {
   "cell_type": "markdown",
   "metadata": {},
   "source": [
    "## Insert missing entries"
   ]
  },
  {
   "cell_type": "code",
   "execution_count": 13,
   "metadata": {},
   "outputs": [],
   "source": [
    "date_range = pd.date_range(start=df['period_end'].min(), end=df['period_end'].max(), freq='M')\n",
    "\n",
    "# create a dataframe with all combinations of zip codes and dates\n",
    "full_index = pd.MultiIndex.from_product([df['region'].unique(), date_range], names=['region', 'period_end'])\n",
    "full_index_df = pd.DataFrame(index=full_index).reset_index()\n",
    "\n",
    "# merge original with the new dataframe to fill missing rows\n",
    "merged_df = pd.merge(full_index_df, df, how='left', on=['region', 'period_end'])"
   ]
  },
  {
   "cell_type": "code",
   "execution_count": 14,
   "metadata": {},
   "outputs": [
    {
     "data": {
      "text/html": [
       "<div>\n",
       "<style scoped>\n",
       "    .dataframe tbody tr th:only-of-type {\n",
       "        vertical-align: middle;\n",
       "    }\n",
       "\n",
       "    .dataframe tbody tr th {\n",
       "        vertical-align: top;\n",
       "    }\n",
       "\n",
       "    .dataframe thead th {\n",
       "        text-align: right;\n",
       "    }\n",
       "</style>\n",
       "<table border=\"1\" class=\"dataframe\">\n",
       "  <thead>\n",
       "    <tr style=\"text-align: right;\">\n",
       "      <th></th>\n",
       "      <th>region</th>\n",
       "      <th>period_end</th>\n",
       "      <th>median_sale_price</th>\n",
       "      <th>median_list_price</th>\n",
       "      <th>homes_sold</th>\n",
       "      <th>pending_sales</th>\n",
       "      <th>new_listings</th>\n",
       "      <th>inventory</th>\n",
       "    </tr>\n",
       "  </thead>\n",
       "  <tbody>\n",
       "    <tr>\n",
       "      <th>790882</th>\n",
       "      <td>10516</td>\n",
       "      <td>2012-03-31</td>\n",
       "      <td>NaN</td>\n",
       "      <td>NaN</td>\n",
       "      <td>NaN</td>\n",
       "      <td>NaN</td>\n",
       "      <td>NaN</td>\n",
       "      <td>NaN</td>\n",
       "    </tr>\n",
       "    <tr>\n",
       "      <th>790883</th>\n",
       "      <td>10516</td>\n",
       "      <td>2012-04-30</td>\n",
       "      <td>NaN</td>\n",
       "      <td>NaN</td>\n",
       "      <td>NaN</td>\n",
       "      <td>NaN</td>\n",
       "      <td>NaN</td>\n",
       "      <td>NaN</td>\n",
       "    </tr>\n",
       "    <tr>\n",
       "      <th>790884</th>\n",
       "      <td>10516</td>\n",
       "      <td>2012-05-31</td>\n",
       "      <td>NaN</td>\n",
       "      <td>NaN</td>\n",
       "      <td>NaN</td>\n",
       "      <td>NaN</td>\n",
       "      <td>NaN</td>\n",
       "      <td>NaN</td>\n",
       "    </tr>\n",
       "    <tr>\n",
       "      <th>790885</th>\n",
       "      <td>10516</td>\n",
       "      <td>2012-06-30</td>\n",
       "      <td>NaN</td>\n",
       "      <td>NaN</td>\n",
       "      <td>NaN</td>\n",
       "      <td>NaN</td>\n",
       "      <td>NaN</td>\n",
       "      <td>NaN</td>\n",
       "    </tr>\n",
       "    <tr>\n",
       "      <th>790886</th>\n",
       "      <td>10516</td>\n",
       "      <td>2012-07-31</td>\n",
       "      <td>NaN</td>\n",
       "      <td>NaN</td>\n",
       "      <td>NaN</td>\n",
       "      <td>NaN</td>\n",
       "      <td>NaN</td>\n",
       "      <td>NaN</td>\n",
       "    </tr>\n",
       "    <tr>\n",
       "      <th>...</th>\n",
       "      <td>...</td>\n",
       "      <td>...</td>\n",
       "      <td>...</td>\n",
       "      <td>...</td>\n",
       "      <td>...</td>\n",
       "      <td>...</td>\n",
       "      <td>...</td>\n",
       "      <td>...</td>\n",
       "    </tr>\n",
       "    <tr>\n",
       "      <th>791023</th>\n",
       "      <td>10516</td>\n",
       "      <td>2023-12-31</td>\n",
       "      <td>640000.0</td>\n",
       "      <td>540000.0</td>\n",
       "      <td>16.0</td>\n",
       "      <td>3.0</td>\n",
       "      <td>6.0</td>\n",
       "      <td>8.0</td>\n",
       "    </tr>\n",
       "    <tr>\n",
       "      <th>791024</th>\n",
       "      <td>10516</td>\n",
       "      <td>2024-01-31</td>\n",
       "      <td>602500.0</td>\n",
       "      <td>540000.0</td>\n",
       "      <td>14.0</td>\n",
       "      <td>1.0</td>\n",
       "      <td>10.0</td>\n",
       "      <td>7.0</td>\n",
       "    </tr>\n",
       "    <tr>\n",
       "      <th>791025</th>\n",
       "      <td>10516</td>\n",
       "      <td>2024-02-29</td>\n",
       "      <td>617500.0</td>\n",
       "      <td>562500.0</td>\n",
       "      <td>10.0</td>\n",
       "      <td>1.0</td>\n",
       "      <td>12.0</td>\n",
       "      <td>11.0</td>\n",
       "    </tr>\n",
       "    <tr>\n",
       "      <th>791026</th>\n",
       "      <td>10516</td>\n",
       "      <td>2024-03-31</td>\n",
       "      <td>575000.0</td>\n",
       "      <td>587000.0</td>\n",
       "      <td>7.0</td>\n",
       "      <td>6.0</td>\n",
       "      <td>16.0</td>\n",
       "      <td>12.0</td>\n",
       "    </tr>\n",
       "    <tr>\n",
       "      <th>791027</th>\n",
       "      <td>10516</td>\n",
       "      <td>2024-04-30</td>\n",
       "      <td>585350.0</td>\n",
       "      <td>676000.0</td>\n",
       "      <td>6.0</td>\n",
       "      <td>6.0</td>\n",
       "      <td>20.0</td>\n",
       "      <td>13.0</td>\n",
       "    </tr>\n",
       "  </tbody>\n",
       "</table>\n",
       "<p>146 rows × 8 columns</p>\n",
       "</div>"
      ],
      "text/plain": [
       "       region period_end  median_sale_price  median_list_price  homes_sold  \\\n",
       "790882  10516 2012-03-31                NaN                NaN         NaN   \n",
       "790883  10516 2012-04-30                NaN                NaN         NaN   \n",
       "790884  10516 2012-05-31                NaN                NaN         NaN   \n",
       "790885  10516 2012-06-30                NaN                NaN         NaN   \n",
       "790886  10516 2012-07-31                NaN                NaN         NaN   \n",
       "...       ...        ...                ...                ...         ...   \n",
       "791023  10516 2023-12-31           640000.0           540000.0        16.0   \n",
       "791024  10516 2024-01-31           602500.0           540000.0        14.0   \n",
       "791025  10516 2024-02-29           617500.0           562500.0        10.0   \n",
       "791026  10516 2024-03-31           575000.0           587000.0         7.0   \n",
       "791027  10516 2024-04-30           585350.0           676000.0         6.0   \n",
       "\n",
       "        pending_sales  new_listings  inventory  \n",
       "790882            NaN           NaN        NaN  \n",
       "790883            NaN           NaN        NaN  \n",
       "790884            NaN           NaN        NaN  \n",
       "790885            NaN           NaN        NaN  \n",
       "790886            NaN           NaN        NaN  \n",
       "...               ...           ...        ...  \n",
       "791023            3.0           6.0        8.0  \n",
       "791024            1.0          10.0        7.0  \n",
       "791025            1.0          12.0       11.0  \n",
       "791026            6.0          16.0       12.0  \n",
       "791027            6.0          20.0       13.0  \n",
       "\n",
       "[146 rows x 8 columns]"
      ]
     },
     "execution_count": 14,
     "metadata": {},
     "output_type": "execute_result"
    }
   ],
   "source": [
    "# check result\n",
    "merged_df[merged_df['region'] == '10516']"
   ]
  },
  {
   "cell_type": "code",
   "execution_count": 15,
   "metadata": {},
   "outputs": [
    {
     "data": {
      "text/html": [
       "<div>\n",
       "<style scoped>\n",
       "    .dataframe tbody tr th:only-of-type {\n",
       "        vertical-align: middle;\n",
       "    }\n",
       "\n",
       "    .dataframe tbody tr th {\n",
       "        vertical-align: top;\n",
       "    }\n",
       "\n",
       "    .dataframe thead th {\n",
       "        text-align: right;\n",
       "    }\n",
       "</style>\n",
       "<table border=\"1\" class=\"dataframe\">\n",
       "  <thead>\n",
       "    <tr style=\"text-align: right;\">\n",
       "      <th></th>\n",
       "      <th>period_end</th>\n",
       "      <th>region</th>\n",
       "      <th>median_sale_price</th>\n",
       "      <th>median_list_price</th>\n",
       "      <th>homes_sold</th>\n",
       "      <th>pending_sales</th>\n",
       "      <th>new_listings</th>\n",
       "      <th>inventory</th>\n",
       "    </tr>\n",
       "  </thead>\n",
       "  <tbody>\n",
       "    <tr>\n",
       "      <th>6299</th>\n",
       "      <td>2016-02-29</td>\n",
       "      <td>10516</td>\n",
       "      <td>501250.0</td>\n",
       "      <td>499450.0</td>\n",
       "      <td>16.0</td>\n",
       "      <td>2.0</td>\n",
       "      <td>22.0</td>\n",
       "      <td>54.0</td>\n",
       "    </tr>\n",
       "    <tr>\n",
       "      <th>19376</th>\n",
       "      <td>2022-06-30</td>\n",
       "      <td>10516</td>\n",
       "      <td>735750.0</td>\n",
       "      <td>682000.0</td>\n",
       "      <td>22.0</td>\n",
       "      <td>7.0</td>\n",
       "      <td>28.0</td>\n",
       "      <td>18.0</td>\n",
       "    </tr>\n",
       "    <tr>\n",
       "      <th>33782</th>\n",
       "      <td>2017-06-30</td>\n",
       "      <td>10516</td>\n",
       "      <td>475000.0</td>\n",
       "      <td>584950.0</td>\n",
       "      <td>15.0</td>\n",
       "      <td>4.0</td>\n",
       "      <td>46.0</td>\n",
       "      <td>68.0</td>\n",
       "    </tr>\n",
       "    <tr>\n",
       "      <th>38375</th>\n",
       "      <td>2022-03-31</td>\n",
       "      <td>10516</td>\n",
       "      <td>857500.0</td>\n",
       "      <td>614900.0</td>\n",
       "      <td>18.0</td>\n",
       "      <td>7.0</td>\n",
       "      <td>21.0</td>\n",
       "      <td>13.0</td>\n",
       "    </tr>\n",
       "    <tr>\n",
       "      <th>88184</th>\n",
       "      <td>2016-03-31</td>\n",
       "      <td>10516</td>\n",
       "      <td>512250.0</td>\n",
       "      <td>499000.0</td>\n",
       "      <td>12.0</td>\n",
       "      <td>1.0</td>\n",
       "      <td>27.0</td>\n",
       "      <td>58.0</td>\n",
       "    </tr>\n",
       "    <tr>\n",
       "      <th>...</th>\n",
       "      <td>...</td>\n",
       "      <td>...</td>\n",
       "      <td>...</td>\n",
       "      <td>...</td>\n",
       "      <td>...</td>\n",
       "      <td>...</td>\n",
       "      <td>...</td>\n",
       "      <td>...</td>\n",
       "    </tr>\n",
       "    <tr>\n",
       "      <th>2489856</th>\n",
       "      <td>2021-06-30</td>\n",
       "      <td>10516</td>\n",
       "      <td>566360.0</td>\n",
       "      <td>610000.0</td>\n",
       "      <td>22.0</td>\n",
       "      <td>4.0</td>\n",
       "      <td>27.0</td>\n",
       "      <td>24.0</td>\n",
       "    </tr>\n",
       "    <tr>\n",
       "      <th>2502528</th>\n",
       "      <td>2018-03-31</td>\n",
       "      <td>10516</td>\n",
       "      <td>461500.0</td>\n",
       "      <td>540000.0</td>\n",
       "      <td>13.0</td>\n",
       "      <td>3.0</td>\n",
       "      <td>25.0</td>\n",
       "      <td>33.0</td>\n",
       "    </tr>\n",
       "    <tr>\n",
       "      <th>2521865</th>\n",
       "      <td>2019-11-30</td>\n",
       "      <td>10516</td>\n",
       "      <td>507200.0</td>\n",
       "      <td>497000.0</td>\n",
       "      <td>15.0</td>\n",
       "      <td>2.0</td>\n",
       "      <td>18.0</td>\n",
       "      <td>38.0</td>\n",
       "    </tr>\n",
       "    <tr>\n",
       "      <th>2570233</th>\n",
       "      <td>2020-06-30</td>\n",
       "      <td>10516</td>\n",
       "      <td>387500.0</td>\n",
       "      <td>599000.0</td>\n",
       "      <td>8.0</td>\n",
       "      <td>5.0</td>\n",
       "      <td>29.0</td>\n",
       "      <td>30.0</td>\n",
       "    </tr>\n",
       "    <tr>\n",
       "      <th>2607590</th>\n",
       "      <td>2023-05-31</td>\n",
       "      <td>10516</td>\n",
       "      <td>527500.0</td>\n",
       "      <td>750000.0</td>\n",
       "      <td>14.0</td>\n",
       "      <td>NaN</td>\n",
       "      <td>8.0</td>\n",
       "      <td>7.0</td>\n",
       "    </tr>\n",
       "  </tbody>\n",
       "</table>\n",
       "<p>106 rows × 8 columns</p>\n",
       "</div>"
      ],
      "text/plain": [
       "        period_end region  median_sale_price  median_list_price  homes_sold  \\\n",
       "6299    2016-02-29  10516           501250.0           499450.0        16.0   \n",
       "19376   2022-06-30  10516           735750.0           682000.0        22.0   \n",
       "33782   2017-06-30  10516           475000.0           584950.0        15.0   \n",
       "38375   2022-03-31  10516           857500.0           614900.0        18.0   \n",
       "88184   2016-03-31  10516           512250.0           499000.0        12.0   \n",
       "...            ...    ...                ...                ...         ...   \n",
       "2489856 2021-06-30  10516           566360.0           610000.0        22.0   \n",
       "2502528 2018-03-31  10516           461500.0           540000.0        13.0   \n",
       "2521865 2019-11-30  10516           507200.0           497000.0        15.0   \n",
       "2570233 2020-06-30  10516           387500.0           599000.0         8.0   \n",
       "2607590 2023-05-31  10516           527500.0           750000.0        14.0   \n",
       "\n",
       "         pending_sales  new_listings  inventory  \n",
       "6299               2.0          22.0       54.0  \n",
       "19376              7.0          28.0       18.0  \n",
       "33782              4.0          46.0       68.0  \n",
       "38375              7.0          21.0       13.0  \n",
       "88184              1.0          27.0       58.0  \n",
       "...                ...           ...        ...  \n",
       "2489856            4.0          27.0       24.0  \n",
       "2502528            3.0          25.0       33.0  \n",
       "2521865            2.0          18.0       38.0  \n",
       "2570233            5.0          29.0       30.0  \n",
       "2607590            NaN           8.0        7.0  \n",
       "\n",
       "[106 rows x 8 columns]"
      ]
     },
     "execution_count": 15,
     "metadata": {},
     "output_type": "execute_result"
    }
   ],
   "source": [
    "# original\n",
    "df[df['region'] == '10516']"
   ]
  },
  {
   "cell_type": "code",
   "execution_count": 16,
   "metadata": {},
   "outputs": [],
   "source": [
    "# overwrite df with our new dataframe\n",
    "df = merged_df.copy()"
   ]
  },
  {
   "cell_type": "markdown",
   "metadata": {},
   "source": [
    "## Analysis of missing values"
   ]
  },
  {
   "cell_type": "code",
   "execution_count": 17,
   "metadata": {},
   "outputs": [
    {
     "data": {
      "text/plain": [
       "region                     0\n",
       "period_end                 0\n",
       "median_sale_price     804248\n",
       "median_list_price     926127\n",
       "homes_sold            804210\n",
       "pending_sales        1427111\n",
       "new_listings          940642\n",
       "inventory             976457\n",
       "dtype: int64"
      ]
     },
     "execution_count": 17,
     "metadata": {},
     "output_type": "execute_result"
    }
   ],
   "source": [
    "df.isna().sum()"
   ]
  },
  {
   "cell_type": "code",
   "execution_count": 18,
   "metadata": {},
   "outputs": [
    {
     "data": {
      "text/plain": [
       "region                0.0\n",
       "period_end            0.0\n",
       "median_sale_price    22.0\n",
       "median_list_price    26.0\n",
       "homes_sold           22.0\n",
       "pending_sales        40.0\n",
       "new_listings         26.0\n",
       "inventory            27.0\n",
       "dtype: float64"
      ]
     },
     "execution_count": 18,
     "metadata": {},
     "output_type": "execute_result"
    }
   ],
   "source": [
    "# percentage of data missing for var\n",
    "(df.isna().sum() / len(df)) * 100 // 1"
   ]
  },
  {
   "cell_type": "code",
   "execution_count": 19,
   "metadata": {},
   "outputs": [],
   "source": [
    "# pending sales has more missing data than the others... remove it for now\n",
    "df = df.drop('pending_sales', axis=1)"
   ]
  },
  {
   "cell_type": "markdown",
   "metadata": {},
   "source": [
    "### median_sale_price"
   ]
  },
  {
   "cell_type": "code",
   "execution_count": 20,
   "metadata": {},
   "outputs": [
    {
     "data": {
      "image/png": "[encoded data removed]",
      "text/plain": [
       "<Figure size 640x480 with 1 Axes>"
      ]
     },
     "metadata": {},
     "output_type": "display_data"
    }
   ],
   "source": [
    "\n",
    "df[df['median_sale_price'].isna()].groupby('period_end')['region'].count().plot();"
   ]
  },
  {
   "cell_type": "markdown",
   "metadata": {},
   "source": [
    "### median_list_price"
   ]
  },
  {
   "cell_type": "code",
   "execution_count": 21,
   "metadata": {},
   "outputs": [
    {
     "data": {
      "image/png": "[encoded data removed]",
      "text/plain": [
       "<Figure size 640x480 with 1 Axes>"
      ]
     },
     "metadata": {},
     "output_type": "display_data"
    }
   ],
   "source": [
    "df[df['median_list_price'].isna()].groupby('period_end')['region'].count().plot();"
   ]
  },
  {
   "cell_type": "markdown",
   "metadata": {},
   "source": [
    "### homes_sold"
   ]
  },
  {
   "cell_type": "code",
   "execution_count": 22,
   "metadata": {},
   "outputs": [
    {
     "data": {
      "image/png": "[encoded data removed]",
      "text/plain": [
       "<Figure size 640x480 with 1 Axes>"
      ]
     },
     "metadata": {},
     "output_type": "display_data"
    }
   ],
   "source": [
    "df[df['homes_sold'].isna()].groupby('period_end')['region'].count().plot();"
   ]
  },
  {
   "cell_type": "markdown",
   "metadata": {},
   "source": [
    "### new_listings"
   ]
  },
  {
   "cell_type": "code",
   "execution_count": 23,
   "metadata": {},
   "outputs": [
    {
     "data": {
      "image/png": "[encoded data removed]",
      "text/plain": [
       "<Figure size 640x480 with 1 Axes>"
      ]
     },
     "metadata": {},
     "output_type": "display_data"
    }
   ],
   "source": [
    "df[df['new_listings'].isna()].groupby('period_end')['region'].count().plot();"
   ]
  },
  {
   "cell_type": "markdown",
   "metadata": {},
   "source": [
    "### Inventory"
   ]
  },
  {
   "cell_type": "code",
   "execution_count": 24,
   "metadata": {},
   "outputs": [
    {
     "data": {
      "image/png": "[encoded data removed]",
      "text/plain": [
       "<Figure size 640x480 with 1 Axes>"
      ]
     },
     "metadata": {},
     "output_type": "display_data"
    }
   ],
   "source": [
    "df[df['inventory'].isna()].groupby('period_end')['region'].count().plot();"
   ]
  },
  {
   "cell_type": "code",
   "execution_count": 25,
   "metadata": {},
   "outputs": [],
   "source": [
    "# all of the covariates have a large drop in the number of missing variables after 2015. use data from 2016 and on\n",
    "df = df[df['period_end'] > '2016-01-01'].copy()"
   ]
  },
  {
   "cell_type": "code",
   "execution_count": 26,
   "metadata": {},
   "outputs": [],
   "source": [
    "# calculate the total number of missing values for each zip code\n",
    "\n",
    "grouped_data = df.groupby('region')\n",
    "missing_counts_per_group = grouped_data.apply(lambda x: x.isna().sum())\n",
    "missing_counts_per_group = missing_counts_per_group.sum(axis=1)"
   ]
  },
  {
   "cell_type": "code",
   "execution_count": 27,
   "metadata": {},
   "outputs": [
    {
     "data": {
      "text/plain": [
       "region\n",
       "93453      0\n",
       "32962      0\n",
       "32963      0\n",
       "63019      0\n",
       "32966      0\n",
       "        ... \n",
       "20704    500\n",
       "54413    500\n",
       "54344    500\n",
       "20656    500\n",
       "75047    500\n",
       "Length: 24065, dtype: int64"
      ]
     },
     "execution_count": 27,
     "metadata": {},
     "output_type": "execute_result"
    }
   ],
   "source": [
    "missing_counts_per_group.sort_values()"
   ]
  },
  {
   "cell_type": "code",
   "execution_count": 28,
   "metadata": {},
   "outputs": [
    {
     "data": {
      "image/png": "[encoded data removed]",
      "text/plain": [
       "<Figure size 640x480 with 1 Axes>"
      ]
     },
     "metadata": {},
     "output_type": "display_data"
    }
   ],
   "source": [
    "missing_counts_per_group.hist();"
   ]
  },
  {
   "cell_type": "code",
   "execution_count": 28,
   "metadata": {},
   "outputs": [
    {
     "data": {
      "text/plain": [
       "500"
      ]
     },
     "execution_count": 28,
     "metadata": {},
     "output_type": "execute_result"
    }
   ],
   "source": [
    "# 5 covariates * # of months in the data = total number of data points for each group\n",
    "5 * df['period_end'].nunique()"
   ]
  },
  {
   "cell_type": "code",
   "execution_count": 29,
   "metadata": {},
   "outputs": [],
   "source": [
    "# remove zips with more than 300 values missing\n",
    "zips_to_remove = missing_counts_per_group[missing_counts_per_group.values > 300].index.values\n",
    "df = df[~df['region'].isin(zips_to_remove)].copy()"
   ]
  },
  {
   "cell_type": "code",
   "execution_count": 30,
   "metadata": {},
   "outputs": [],
   "source": [
    "# there is a lot of overlap between missing values across different covariates. For now we can \n",
    "# look at just median sale price since it has the least number of missing values\n",
    "df['is_sale_nan'] = df['median_sale_price'].isna().astype(int)"
   ]
  },
  {
   "cell_type": "code",
   "execution_count": 31,
   "metadata": {},
   "outputs": [
    {
     "data": {
      "text/html": [
       "<div>\n",
       "<style scoped>\n",
       "    .dataframe tbody tr th:only-of-type {\n",
       "        vertical-align: middle;\n",
       "    }\n",
       "\n",
       "    .dataframe tbody tr th {\n",
       "        vertical-align: top;\n",
       "    }\n",
       "\n",
       "    .dataframe thead th {\n",
       "        text-align: right;\n",
       "    }\n",
       "</style>\n",
       "<table border=\"1\" class=\"dataframe\">\n",
       "  <thead>\n",
       "    <tr style=\"text-align: right;\">\n",
       "      <th></th>\n",
       "      <th>region</th>\n",
       "      <th>period_end</th>\n",
       "      <th>median_sale_price</th>\n",
       "      <th>median_list_price</th>\n",
       "      <th>homes_sold</th>\n",
       "      <th>new_listings</th>\n",
       "      <th>inventory</th>\n",
       "      <th>is_sale_nan</th>\n",
       "    </tr>\n",
       "  </thead>\n",
       "  <tbody>\n",
       "    <tr>\n",
       "      <th>3376316</th>\n",
       "      <td>71108</td>\n",
       "      <td>2017-09-30</td>\n",
       "      <td>NaN</td>\n",
       "      <td>NaN</td>\n",
       "      <td>NaN</td>\n",
       "      <td>NaN</td>\n",
       "      <td>NaN</td>\n",
       "      <td>1</td>\n",
       "    </tr>\n",
       "    <tr>\n",
       "      <th>3376317</th>\n",
       "      <td>71108</td>\n",
       "      <td>2017-10-31</td>\n",
       "      <td>NaN</td>\n",
       "      <td>NaN</td>\n",
       "      <td>NaN</td>\n",
       "      <td>NaN</td>\n",
       "      <td>NaN</td>\n",
       "      <td>1</td>\n",
       "    </tr>\n",
       "    <tr>\n",
       "      <th>3376318</th>\n",
       "      <td>71108</td>\n",
       "      <td>2017-11-30</td>\n",
       "      <td>NaN</td>\n",
       "      <td>NaN</td>\n",
       "      <td>NaN</td>\n",
       "      <td>NaN</td>\n",
       "      <td>NaN</td>\n",
       "      <td>1</td>\n",
       "    </tr>\n",
       "    <tr>\n",
       "      <th>3376319</th>\n",
       "      <td>71108</td>\n",
       "      <td>2017-12-31</td>\n",
       "      <td>NaN</td>\n",
       "      <td>NaN</td>\n",
       "      <td>NaN</td>\n",
       "      <td>NaN</td>\n",
       "      <td>NaN</td>\n",
       "      <td>1</td>\n",
       "    </tr>\n",
       "    <tr>\n",
       "      <th>3376320</th>\n",
       "      <td>71108</td>\n",
       "      <td>2018-01-31</td>\n",
       "      <td>NaN</td>\n",
       "      <td>NaN</td>\n",
       "      <td>NaN</td>\n",
       "      <td>NaN</td>\n",
       "      <td>NaN</td>\n",
       "      <td>1</td>\n",
       "    </tr>\n",
       "    <tr>\n",
       "      <th>3376321</th>\n",
       "      <td>71108</td>\n",
       "      <td>2018-02-28</td>\n",
       "      <td>NaN</td>\n",
       "      <td>NaN</td>\n",
       "      <td>NaN</td>\n",
       "      <td>NaN</td>\n",
       "      <td>NaN</td>\n",
       "      <td>1</td>\n",
       "    </tr>\n",
       "    <tr>\n",
       "      <th>3376322</th>\n",
       "      <td>71108</td>\n",
       "      <td>2018-03-31</td>\n",
       "      <td>NaN</td>\n",
       "      <td>NaN</td>\n",
       "      <td>NaN</td>\n",
       "      <td>NaN</td>\n",
       "      <td>NaN</td>\n",
       "      <td>1</td>\n",
       "    </tr>\n",
       "    <tr>\n",
       "      <th>3376323</th>\n",
       "      <td>71108</td>\n",
       "      <td>2018-04-30</td>\n",
       "      <td>NaN</td>\n",
       "      <td>NaN</td>\n",
       "      <td>NaN</td>\n",
       "      <td>NaN</td>\n",
       "      <td>NaN</td>\n",
       "      <td>1</td>\n",
       "    </tr>\n",
       "    <tr>\n",
       "      <th>3376324</th>\n",
       "      <td>71108</td>\n",
       "      <td>2018-05-31</td>\n",
       "      <td>NaN</td>\n",
       "      <td>NaN</td>\n",
       "      <td>NaN</td>\n",
       "      <td>NaN</td>\n",
       "      <td>NaN</td>\n",
       "      <td>1</td>\n",
       "    </tr>\n",
       "    <tr>\n",
       "      <th>3376347</th>\n",
       "      <td>71108</td>\n",
       "      <td>2020-04-30</td>\n",
       "      <td>NaN</td>\n",
       "      <td>NaN</td>\n",
       "      <td>NaN</td>\n",
       "      <td>NaN</td>\n",
       "      <td>NaN</td>\n",
       "      <td>1</td>\n",
       "    </tr>\n",
       "  </tbody>\n",
       "</table>\n",
       "</div>"
      ],
      "text/plain": [
       "        region period_end  median_sale_price  median_list_price  homes_sold  \\\n",
       "3376316  71108 2017-09-30                NaN                NaN         NaN   \n",
       "3376317  71108 2017-10-31                NaN                NaN         NaN   \n",
       "3376318  71108 2017-11-30                NaN                NaN         NaN   \n",
       "3376319  71108 2017-12-31                NaN                NaN         NaN   \n",
       "3376320  71108 2018-01-31                NaN                NaN         NaN   \n",
       "3376321  71108 2018-02-28                NaN                NaN         NaN   \n",
       "3376322  71108 2018-03-31                NaN                NaN         NaN   \n",
       "3376323  71108 2018-04-30                NaN                NaN         NaN   \n",
       "3376324  71108 2018-05-31                NaN                NaN         NaN   \n",
       "3376347  71108 2020-04-30                NaN                NaN         NaN   \n",
       "\n",
       "         new_listings  inventory  is_sale_nan  \n",
       "3376316           NaN        NaN            1  \n",
       "3376317           NaN        NaN            1  \n",
       "3376318           NaN        NaN            1  \n",
       "3376319           NaN        NaN            1  \n",
       "3376320           NaN        NaN            1  \n",
       "3376321           NaN        NaN            1  \n",
       "3376322           NaN        NaN            1  \n",
       "3376323           NaN        NaN            1  \n",
       "3376324           NaN        NaN            1  \n",
       "3376347           NaN        NaN            1  "
      ]
     },
     "execution_count": 31,
     "metadata": {},
     "output_type": "execute_result"
    }
   ],
   "source": [
    "df[df['median_sale_price'].isna()].tail(10)"
   ]
  },
  {
   "cell_type": "code",
   "execution_count": 32,
   "metadata": {},
   "outputs": [],
   "source": [
    "# helper function to count the number of consecutive missing values in timeseries data\n",
    "def count_conseq(x):\n",
    "  return (x * (x.groupby((x != x.shift()).cumsum()).cumcount() + 1))"
   ]
  },
  {
   "cell_type": "code",
   "execution_count": 33,
   "metadata": {},
   "outputs": [],
   "source": [
    "# create new column that will have a running count of consecutive missing values w.r.t each zip code\n",
    "df['conseq_sale_nan'] = df.groupby('region')['is_sale_nan'].transform(count_conseq)"
   ]
  },
  {
   "cell_type": "code",
   "execution_count": 34,
   "metadata": {},
   "outputs": [
    {
     "data": {
      "text/html": [
       "<div>\n",
       "<style scoped>\n",
       "    .dataframe tbody tr th:only-of-type {\n",
       "        vertical-align: middle;\n",
       "    }\n",
       "\n",
       "    .dataframe tbody tr th {\n",
       "        vertical-align: top;\n",
       "    }\n",
       "\n",
       "    .dataframe thead th {\n",
       "        text-align: right;\n",
       "    }\n",
       "</style>\n",
       "<table border=\"1\" class=\"dataframe\">\n",
       "  <thead>\n",
       "    <tr style=\"text-align: right;\">\n",
       "      <th></th>\n",
       "      <th>region</th>\n",
       "      <th>period_end</th>\n",
       "      <th>median_sale_price</th>\n",
       "      <th>median_list_price</th>\n",
       "      <th>homes_sold</th>\n",
       "      <th>new_listings</th>\n",
       "      <th>inventory</th>\n",
       "      <th>is_sale_nan</th>\n",
       "      <th>conseq_sale_nan</th>\n",
       "    </tr>\n",
       "  </thead>\n",
       "  <tbody>\n",
       "    <tr>\n",
       "      <th>3376316</th>\n",
       "      <td>71108</td>\n",
       "      <td>2017-09-30</td>\n",
       "      <td>NaN</td>\n",
       "      <td>NaN</td>\n",
       "      <td>NaN</td>\n",
       "      <td>NaN</td>\n",
       "      <td>NaN</td>\n",
       "      <td>1</td>\n",
       "      <td>21</td>\n",
       "    </tr>\n",
       "    <tr>\n",
       "      <th>3376317</th>\n",
       "      <td>71108</td>\n",
       "      <td>2017-10-31</td>\n",
       "      <td>NaN</td>\n",
       "      <td>NaN</td>\n",
       "      <td>NaN</td>\n",
       "      <td>NaN</td>\n",
       "      <td>NaN</td>\n",
       "      <td>1</td>\n",
       "      <td>22</td>\n",
       "    </tr>\n",
       "    <tr>\n",
       "      <th>3376318</th>\n",
       "      <td>71108</td>\n",
       "      <td>2017-11-30</td>\n",
       "      <td>NaN</td>\n",
       "      <td>NaN</td>\n",
       "      <td>NaN</td>\n",
       "      <td>NaN</td>\n",
       "      <td>NaN</td>\n",
       "      <td>1</td>\n",
       "      <td>23</td>\n",
       "    </tr>\n",
       "    <tr>\n",
       "      <th>3376319</th>\n",
       "      <td>71108</td>\n",
       "      <td>2017-12-31</td>\n",
       "      <td>NaN</td>\n",
       "      <td>NaN</td>\n",
       "      <td>NaN</td>\n",
       "      <td>NaN</td>\n",
       "      <td>NaN</td>\n",
       "      <td>1</td>\n",
       "      <td>24</td>\n",
       "    </tr>\n",
       "    <tr>\n",
       "      <th>3376320</th>\n",
       "      <td>71108</td>\n",
       "      <td>2018-01-31</td>\n",
       "      <td>NaN</td>\n",
       "      <td>NaN</td>\n",
       "      <td>NaN</td>\n",
       "      <td>NaN</td>\n",
       "      <td>NaN</td>\n",
       "      <td>1</td>\n",
       "      <td>25</td>\n",
       "    </tr>\n",
       "    <tr>\n",
       "      <th>3376321</th>\n",
       "      <td>71108</td>\n",
       "      <td>2018-02-28</td>\n",
       "      <td>NaN</td>\n",
       "      <td>NaN</td>\n",
       "      <td>NaN</td>\n",
       "      <td>NaN</td>\n",
       "      <td>NaN</td>\n",
       "      <td>1</td>\n",
       "      <td>26</td>\n",
       "    </tr>\n",
       "    <tr>\n",
       "      <th>3376322</th>\n",
       "      <td>71108</td>\n",
       "      <td>2018-03-31</td>\n",
       "      <td>NaN</td>\n",
       "      <td>NaN</td>\n",
       "      <td>NaN</td>\n",
       "      <td>NaN</td>\n",
       "      <td>NaN</td>\n",
       "      <td>1</td>\n",
       "      <td>27</td>\n",
       "    </tr>\n",
       "    <tr>\n",
       "      <th>3376323</th>\n",
       "      <td>71108</td>\n",
       "      <td>2018-04-30</td>\n",
       "      <td>NaN</td>\n",
       "      <td>NaN</td>\n",
       "      <td>NaN</td>\n",
       "      <td>NaN</td>\n",
       "      <td>NaN</td>\n",
       "      <td>1</td>\n",
       "      <td>28</td>\n",
       "    </tr>\n",
       "    <tr>\n",
       "      <th>3376324</th>\n",
       "      <td>71108</td>\n",
       "      <td>2018-05-31</td>\n",
       "      <td>NaN</td>\n",
       "      <td>NaN</td>\n",
       "      <td>NaN</td>\n",
       "      <td>NaN</td>\n",
       "      <td>NaN</td>\n",
       "      <td>1</td>\n",
       "      <td>29</td>\n",
       "    </tr>\n",
       "    <tr>\n",
       "      <th>3376347</th>\n",
       "      <td>71108</td>\n",
       "      <td>2020-04-30</td>\n",
       "      <td>NaN</td>\n",
       "      <td>NaN</td>\n",
       "      <td>NaN</td>\n",
       "      <td>NaN</td>\n",
       "      <td>NaN</td>\n",
       "      <td>1</td>\n",
       "      <td>1</td>\n",
       "    </tr>\n",
       "  </tbody>\n",
       "</table>\n",
       "</div>"
      ],
      "text/plain": [
       "        region period_end  median_sale_price  median_list_price  homes_sold  \\\n",
       "3376316  71108 2017-09-30                NaN                NaN         NaN   \n",
       "3376317  71108 2017-10-31                NaN                NaN         NaN   \n",
       "3376318  71108 2017-11-30                NaN                NaN         NaN   \n",
       "3376319  71108 2017-12-31                NaN                NaN         NaN   \n",
       "3376320  71108 2018-01-31                NaN                NaN         NaN   \n",
       "3376321  71108 2018-02-28                NaN                NaN         NaN   \n",
       "3376322  71108 2018-03-31                NaN                NaN         NaN   \n",
       "3376323  71108 2018-04-30                NaN                NaN         NaN   \n",
       "3376324  71108 2018-05-31                NaN                NaN         NaN   \n",
       "3376347  71108 2020-04-30                NaN                NaN         NaN   \n",
       "\n",
       "         new_listings  inventory  is_sale_nan  conseq_sale_nan  \n",
       "3376316           NaN        NaN            1               21  \n",
       "3376317           NaN        NaN            1               22  \n",
       "3376318           NaN        NaN            1               23  \n",
       "3376319           NaN        NaN            1               24  \n",
       "3376320           NaN        NaN            1               25  \n",
       "3376321           NaN        NaN            1               26  \n",
       "3376322           NaN        NaN            1               27  \n",
       "3376323           NaN        NaN            1               28  \n",
       "3376324           NaN        NaN            1               29  \n",
       "3376347           NaN        NaN            1                1  "
      ]
     },
     "execution_count": 34,
     "metadata": {},
     "output_type": "execute_result"
    }
   ],
   "source": [
    "df[df['median_sale_price'].isna()].tail(10)"
   ]
  },
  {
   "cell_type": "code",
   "execution_count": 35,
   "metadata": {},
   "outputs": [],
   "source": [
    "max_conseq_missing = df.groupby('region')['conseq_sale_nan'].max()"
   ]
  },
  {
   "cell_type": "code",
   "execution_count": 36,
   "metadata": {},
   "outputs": [
    {
     "data": {
      "image/png": "[encoded data removed]",
      "text/plain": [
       "<Figure size 640x480 with 1 Axes>"
      ]
     },
     "metadata": {},
     "output_type": "display_data"
    }
   ],
   "source": [
    "max_conseq_missing.hist();"
   ]
  },
  {
   "cell_type": "code",
   "execution_count": 37,
   "metadata": {},
   "outputs": [],
   "source": [
    "# remove any zip code with more than 2 years of consecutive missing values \n",
    "zips_to_remove = max_conseq_missing[max_conseq_missing.values > 24].index.values\n",
    "df = df[~df['region'].isin(zips_to_remove)]"
   ]
  },
  {
   "cell_type": "code",
   "execution_count": 38,
   "metadata": {},
   "outputs": [],
   "source": [
    "df = df.drop(['is_sale_nan', 'conseq_sale_nan'], axis=1)"
   ]
  },
  {
   "cell_type": "code",
   "execution_count": 39,
   "metadata": {},
   "outputs": [],
   "source": [
    "df.to_csv('../../data/processed/Redfin/Redfin_April24_Processed.csv', index= False)"
   ]
  },
  {
   "cell_type": "code",
   "execution_count": null,
   "metadata": {},
   "outputs": [],
   "source": []
  }
 ],
 "metadata": {
  "kernelspec": {
   "display_name": "Python 3",
   "language": "python",
   "name": "python3"
  },
  "language_info": {
   "codemirror_mode": {
    "name": "ipython",
    "version": 3
   },
   "file_extension": ".py",
   "mimetype": "text/x-python",
   "name": "python",
   "nbconvert_exporter": "python",
   "pygments_lexer": "ipython3",
   "version": "3.11.9"
  },
  "orig_nbformat": 4
 },
 "nbformat": 4,
 "nbformat_minor": 2
}
