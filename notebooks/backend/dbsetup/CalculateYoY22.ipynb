{
 "cells": [
  {
   "cell_type": "code",
   "execution_count": 1,
   "id": "configured-bleeding",
   "metadata": {},
   "outputs": [],
   "source": [
    "import numpy as np\n",
    "import pandas as pd"
   ]
  },
  {
   "cell_type": "code",
   "execution_count": 2,
   "id": "upper-relief",
   "metadata": {},
   "outputs": [],
   "source": [
    "df = pd.read_csv('ZHVI/ZHVI_December22.csv', dtype=str)"
   ]
  },
  {
   "cell_type": "code",
   "execution_count": 3,
   "id": "historical-illinois",
   "metadata": {},
   "outputs": [],
   "source": [
    "df_current = df.loc[:,['RegionName', '2022-12-31']]\n",
    "df_last = df.loc[:,['RegionName', '2021-12-31']]"
   ]
  },
  {
   "cell_type": "code",
   "execution_count": 4,
   "id": "stable-masters",
   "metadata": {},
   "outputs": [],
   "source": [
    "arr_current = np.empty([3,df_current['RegionName'].nunique()], dtype=object)\n",
    "arr_last = np.empty([3,df_last['RegionName'].nunique()], dtype=object)"
   ]
  },
  {
   "cell_type": "code",
   "execution_count": 5,
   "id": "signed-opinion",
   "metadata": {},
   "outputs": [],
   "source": [
    "# current\n",
    "a = 0\n",
    "b = 1\n",
    "\n",
    "# for every zip, transpose date columns and repeat zip code in 3rd column\n",
    "for ind, row in df_current.iterrows():\n",
    "    \n",
    "  timeseries = row.iloc[1:].T\n",
    "\n",
    "  arr_current[0,a:b] = timeseries.index.values\n",
    "  arr_current[1,a:b] = timeseries.values\n",
    "  arr_current[2,a:b] = np.repeat(row['RegionName'], len(timeseries.index.values))\n",
    "  a += len(timeseries)# length of time in dataset\n",
    "  b += len(timeseries)"
   ]
  },
  {
   "cell_type": "code",
   "execution_count": 6,
   "id": "durable-starter",
   "metadata": {},
   "outputs": [],
   "source": [
    "# last\n",
    "a = 0\n",
    "b = 1\n",
    "\n",
    "# for every zip, transpose date columns and repeat zip code in 3rd column\n",
    "for ind, row in df_last.iterrows():\n",
    "    \n",
    "  timeseries = row.iloc[1:].T\n",
    "\n",
    "  arr_last[0,a:b] = timeseries.index.values\n",
    "  arr_last[1,a:b] = timeseries.values\n",
    "  arr_last[2,a:b] = np.repeat(row['RegionName'], len(timeseries.index.values))\n",
    "  a += len(timeseries)# length of time in dataset\n",
    "  b += len(timeseries)"
   ]
  },
  {
   "cell_type": "code",
   "execution_count": 7,
   "id": "encouraging-proportion",
   "metadata": {},
   "outputs": [],
   "source": [
    "df_current = pd.DataFrame(arr_current.T)\n",
    "df_current.columns = ['Date', 'ZHVI', 'ZipCode']"
   ]
  },
  {
   "cell_type": "code",
   "execution_count": 8,
   "id": "stainless-ebony",
   "metadata": {},
   "outputs": [],
   "source": [
    "df_last = pd.DataFrame(arr_last.T)\n",
    "df_last.columns = ['Date', 'ZHVI', 'ZipCode']"
   ]
  },
  {
   "cell_type": "code",
   "execution_count": 9,
   "id": "abstract-colors",
   "metadata": {},
   "outputs": [],
   "source": [
    "df_current['last'] = df_last['ZHVI']"
   ]
  },
  {
   "cell_type": "code",
   "execution_count": 10,
   "id": "selective-conflict",
   "metadata": {},
   "outputs": [],
   "source": [
    "df_YoY = df_current.copy()"
   ]
  },
  {
   "cell_type": "code",
   "execution_count": 11,
   "id": "affiliated-march",
   "metadata": {},
   "outputs": [],
   "source": [
    "df_YoY.columns = ['Date', 'Current', 'ZipCode', 'Last']"
   ]
  },
  {
   "cell_type": "code",
   "execution_count": 12,
   "id": "forty-wound",
   "metadata": {},
   "outputs": [],
   "source": [
    "df_YoY['Current'] = df_YoY['Current'].astype(float) "
   ]
  },
  {
   "cell_type": "code",
   "execution_count": 13,
   "id": "beginning-emperor",
   "metadata": {},
   "outputs": [],
   "source": [
    "df_YoY['Last'] = df_YoY['Last'].astype(float) "
   ]
  },
  {
   "cell_type": "code",
   "execution_count": 14,
   "id": "ambient-sherman",
   "metadata": {},
   "outputs": [],
   "source": [
    "df_YoY['YoY'] = ((df_YoY['Current'] - df_YoY['Last']) / df_YoY['Last']) * 100"
   ]
  },
  {
   "cell_type": "code",
   "execution_count": 15,
   "id": "handy-supervision",
   "metadata": {},
   "outputs": [],
   "source": [
    "df_YoY['YoY'] = df_YoY['YoY'].round(2)"
   ]
  },
  {
   "cell_type": "code",
   "execution_count": 16,
   "id": "protected-vision",
   "metadata": {},
   "outputs": [
    {
     "data": {
      "text/html": [
       "<div>\n",
       "<style scoped>\n",
       "    .dataframe tbody tr th:only-of-type {\n",
       "        vertical-align: middle;\n",
       "    }\n",
       "\n",
       "    .dataframe tbody tr th {\n",
       "        vertical-align: top;\n",
       "    }\n",
       "\n",
       "    .dataframe thead th {\n",
       "        text-align: right;\n",
       "    }\n",
       "</style>\n",
       "<table border=\"1\" class=\"dataframe\">\n",
       "  <thead>\n",
       "    <tr style=\"text-align: right;\">\n",
       "      <th></th>\n",
       "      <th>Date</th>\n",
       "      <th>Current</th>\n",
       "      <th>ZipCode</th>\n",
       "      <th>Last</th>\n",
       "      <th>YoY</th>\n",
       "    </tr>\n",
       "  </thead>\n",
       "  <tbody>\n",
       "    <tr>\n",
       "      <th>0</th>\n",
       "      <td>2022-12-31</td>\n",
       "      <td>291080.0</td>\n",
       "      <td>77449</td>\n",
       "      <td>251878.0</td>\n",
       "      <td>15.56</td>\n",
       "    </tr>\n",
       "    <tr>\n",
       "      <th>1</th>\n",
       "      <td>2022-12-31</td>\n",
       "      <td>501644.0</td>\n",
       "      <td>77494</td>\n",
       "      <td>436908.0</td>\n",
       "      <td>14.82</td>\n",
       "    </tr>\n",
       "    <tr>\n",
       "      <th>2</th>\n",
       "      <td>2022-12-31</td>\n",
       "      <td>200092.0</td>\n",
       "      <td>79936</td>\n",
       "      <td>173703.0</td>\n",
       "      <td>15.19</td>\n",
       "    </tr>\n",
       "    <tr>\n",
       "      <th>3</th>\n",
       "      <td>2022-12-31</td>\n",
       "      <td>588935.0</td>\n",
       "      <td>11368</td>\n",
       "      <td>569656.0</td>\n",
       "      <td>3.38</td>\n",
       "    </tr>\n",
       "    <tr>\n",
       "      <th>4</th>\n",
       "      <td>2022-12-31</td>\n",
       "      <td>792677.0</td>\n",
       "      <td>11385</td>\n",
       "      <td>744169.0</td>\n",
       "      <td>6.52</td>\n",
       "    </tr>\n",
       "    <tr>\n",
       "      <th>...</th>\n",
       "      <td>...</td>\n",
       "      <td>...</td>\n",
       "      <td>...</td>\n",
       "      <td>...</td>\n",
       "      <td>...</td>\n",
       "    </tr>\n",
       "    <tr>\n",
       "      <th>27446</th>\n",
       "      <td>2022-12-31</td>\n",
       "      <td>61001.0</td>\n",
       "      <td>38946</td>\n",
       "      <td>NaN</td>\n",
       "      <td>NaN</td>\n",
       "    </tr>\n",
       "    <tr>\n",
       "      <th>27447</th>\n",
       "      <td>2022-12-31</td>\n",
       "      <td>195116.0</td>\n",
       "      <td>50160</td>\n",
       "      <td>171156.0</td>\n",
       "      <td>14.00</td>\n",
       "    </tr>\n",
       "    <tr>\n",
       "      <th>27448</th>\n",
       "      <td>2022-12-31</td>\n",
       "      <td>372834.0</td>\n",
       "      <td>18081</td>\n",
       "      <td>353410.0</td>\n",
       "      <td>5.50</td>\n",
       "    </tr>\n",
       "    <tr>\n",
       "      <th>27449</th>\n",
       "      <td>2022-12-31</td>\n",
       "      <td>75829.0</td>\n",
       "      <td>51009</td>\n",
       "      <td>71152.0</td>\n",
       "      <td>6.57</td>\n",
       "    </tr>\n",
       "    <tr>\n",
       "      <th>27450</th>\n",
       "      <td>2022-12-31</td>\n",
       "      <td>111148.0</td>\n",
       "      <td>55366</td>\n",
       "      <td>NaN</td>\n",
       "      <td>NaN</td>\n",
       "    </tr>\n",
       "  </tbody>\n",
       "</table>\n",
       "<p>27451 rows × 5 columns</p>\n",
       "</div>"
      ],
      "text/plain": [
       "             Date   Current ZipCode      Last    YoY\n",
       "0      2022-12-31  291080.0   77449  251878.0  15.56\n",
       "1      2022-12-31  501644.0   77494  436908.0  14.82\n",
       "2      2022-12-31  200092.0   79936  173703.0  15.19\n",
       "3      2022-12-31  588935.0   11368  569656.0   3.38\n",
       "4      2022-12-31  792677.0   11385  744169.0   6.52\n",
       "...           ...       ...     ...       ...    ...\n",
       "27446  2022-12-31   61001.0   38946       NaN    NaN\n",
       "27447  2022-12-31  195116.0   50160  171156.0  14.00\n",
       "27448  2022-12-31  372834.0   18081  353410.0   5.50\n",
       "27449  2022-12-31   75829.0   51009   71152.0   6.57\n",
       "27450  2022-12-31  111148.0   55366       NaN    NaN\n",
       "\n",
       "[27451 rows x 5 columns]"
      ]
     },
     "execution_count": 16,
     "metadata": {},
     "output_type": "execute_result"
    }
   ],
   "source": [
    "df_YoY"
   ]
  },
  {
   "cell_type": "code",
   "execution_count": 17,
   "id": "wireless-ballet",
   "metadata": {},
   "outputs": [],
   "source": [
    "df_YoY = df_YoY.loc[:,['ZipCode', 'YoY']]"
   ]
  },
  {
   "cell_type": "code",
   "execution_count": 43,
   "id": "congressional-livestock",
   "metadata": {},
   "outputs": [],
   "source": [
    "df_YoY = df_YoY.fillna(999.99)"
   ]
  },
  {
   "cell_type": "code",
   "execution_count": 45,
   "id": "worse-finish",
   "metadata": {},
   "outputs": [],
   "source": [
    "df_YoY = df_YoY.replace('NULL', 999.99)"
   ]
  },
  {
   "cell_type": "code",
   "execution_count": 18,
   "id": "alive-virgin",
   "metadata": {},
   "outputs": [
    {
     "data": {
      "text/html": [
       "<div>\n",
       "<style scoped>\n",
       "    .dataframe tbody tr th:only-of-type {\n",
       "        vertical-align: middle;\n",
       "    }\n",
       "\n",
       "    .dataframe tbody tr th {\n",
       "        vertical-align: top;\n",
       "    }\n",
       "\n",
       "    .dataframe thead th {\n",
       "        text-align: right;\n",
       "    }\n",
       "</style>\n",
       "<table border=\"1\" class=\"dataframe\">\n",
       "  <thead>\n",
       "    <tr style=\"text-align: right;\">\n",
       "      <th></th>\n",
       "      <th>ZipCode</th>\n",
       "      <th>YoY</th>\n",
       "    </tr>\n",
       "  </thead>\n",
       "  <tbody>\n",
       "    <tr>\n",
       "      <th>0</th>\n",
       "      <td>77449</td>\n",
       "      <td>15.56</td>\n",
       "    </tr>\n",
       "    <tr>\n",
       "      <th>1</th>\n",
       "      <td>77494</td>\n",
       "      <td>14.82</td>\n",
       "    </tr>\n",
       "    <tr>\n",
       "      <th>2</th>\n",
       "      <td>79936</td>\n",
       "      <td>15.19</td>\n",
       "    </tr>\n",
       "    <tr>\n",
       "      <th>3</th>\n",
       "      <td>11368</td>\n",
       "      <td>3.38</td>\n",
       "    </tr>\n",
       "    <tr>\n",
       "      <th>4</th>\n",
       "      <td>11385</td>\n",
       "      <td>6.52</td>\n",
       "    </tr>\n",
       "    <tr>\n",
       "      <th>...</th>\n",
       "      <td>...</td>\n",
       "      <td>...</td>\n",
       "    </tr>\n",
       "    <tr>\n",
       "      <th>27446</th>\n",
       "      <td>38946</td>\n",
       "      <td>NaN</td>\n",
       "    </tr>\n",
       "    <tr>\n",
       "      <th>27447</th>\n",
       "      <td>50160</td>\n",
       "      <td>14.00</td>\n",
       "    </tr>\n",
       "    <tr>\n",
       "      <th>27448</th>\n",
       "      <td>18081</td>\n",
       "      <td>5.50</td>\n",
       "    </tr>\n",
       "    <tr>\n",
       "      <th>27449</th>\n",
       "      <td>51009</td>\n",
       "      <td>6.57</td>\n",
       "    </tr>\n",
       "    <tr>\n",
       "      <th>27450</th>\n",
       "      <td>55366</td>\n",
       "      <td>NaN</td>\n",
       "    </tr>\n",
       "  </tbody>\n",
       "</table>\n",
       "<p>27451 rows × 2 columns</p>\n",
       "</div>"
      ],
      "text/plain": [
       "      ZipCode    YoY\n",
       "0       77449  15.56\n",
       "1       77494  14.82\n",
       "2       79936  15.19\n",
       "3       11368   3.38\n",
       "4       11385   6.52\n",
       "...       ...    ...\n",
       "27446   38946    NaN\n",
       "27447   50160  14.00\n",
       "27448   18081   5.50\n",
       "27449   51009   6.57\n",
       "27450   55366    NaN\n",
       "\n",
       "[27451 rows x 2 columns]"
      ]
     },
     "execution_count": 18,
     "metadata": {},
     "output_type": "execute_result"
    }
   ],
   "source": [
    "df_YoY"
   ]
  },
  {
   "cell_type": "code",
   "execution_count": 19,
   "id": "exterior-czech",
   "metadata": {},
   "outputs": [],
   "source": [
    "df_YoY.to_csv('YoY22_with_NaN.csv', index= False)"
   ]
  },
  {
   "cell_type": "code",
   "execution_count": null,
   "id": "closed-mount",
   "metadata": {},
   "outputs": [],
   "source": []
  }
 ],
 "metadata": {
  "kernelspec": {
   "display_name": "Python 3",
   "language": "python",
   "name": "python3"
  },
  "language_info": {
   "codemirror_mode": {
    "name": "ipython",
    "version": 3
   },
   "file_extension": ".py",
   "mimetype": "text/x-python",
   "name": "python",
   "nbconvert_exporter": "python",
   "pygments_lexer": "ipython3",
   "version": "3.8.5"
  }
 },
 "nbformat": 4,
 "nbformat_minor": 5
}
